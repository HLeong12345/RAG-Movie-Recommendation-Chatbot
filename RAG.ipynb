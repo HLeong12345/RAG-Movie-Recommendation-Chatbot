{
  "cells": [
    {
      "cell_type": "code",
      "execution_count": null,
      "metadata": {
        "id": "QOHqtQrXljhj"
      },
      "outputs": [],
      "source": [
        "!pip install qdrant-client"
      ]
    },
    {
      "cell_type": "code",
      "execution_count": null,
      "metadata": {
        "id": "4jcB4E5kyGDk"
      },
      "outputs": [],
      "source": [
        "!pip install sentence_transformers"
      ]
    },
    {
      "cell_type": "code",
      "execution_count": null,
      "metadata": {
        "id": "iw0GIjm7yGDk"
      },
      "outputs": [],
      "source": [
        "!pip install OpenAI"
      ]
    },
    {
      "cell_type": "code",
      "execution_count": null,
      "metadata": {
        "id": "UOVKkS6JllUw",
        "outputId": "0e908f4a-4a06-4fb4-d1d8-f26cc90bc734"
      },
      "outputs": [
        {
          "name": "stderr",
          "output_type": "stream",
          "text": [
            "C:\\Users\\leong\\anaconda3\\lib\\site-packages\\torchvision\\datapoints\\__init__.py:12: UserWarning: The torchvision.datapoints and torchvision.transforms.v2 namespaces are still Beta. While we do not expect major breaking changes, some APIs may still change according to user feedback. Please submit any feedback you may have in this issue: https://github.com/pytorch/vision/issues/6753, and you can also check out https://github.com/pytorch/vision/issues/7319 to learn more about the APIs that we suspect might involve future changes. You can silence this warning by calling torchvision.disable_beta_transforms_warning().\n",
            "  warnings.warn(_BETA_TRANSFORMS_WARNING)\n",
            "C:\\Users\\leong\\anaconda3\\lib\\site-packages\\torchvision\\transforms\\v2\\__init__.py:54: UserWarning: The torchvision.datapoints and torchvision.transforms.v2 namespaces are still Beta. While we do not expect major breaking changes, some APIs may still change according to user feedback. Please submit any feedback you may have in this issue: https://github.com/pytorch/vision/issues/6753, and you can also check out https://github.com/pytorch/vision/issues/7319 to learn more about the APIs that we suspect might involve future changes. You can silence this warning by calling torchvision.disable_beta_transforms_warning().\n",
            "  warnings.warn(_BETA_TRANSFORMS_WARNING)\n"
          ]
        }
      ],
      "source": [
        "import pandas as pd\n",
        "from qdrant_client import models, QdrantClient\n",
        "from sentence_transformers import SentenceTransformer\n",
        "from openai import OpenAI"
      ]
    },
    {
      "cell_type": "markdown",
      "metadata": {
        "id": "Gif3gHPdlyfP"
      },
      "source": [
        "#Movie Dataset Exploration"
      ]
    },
    {
      "cell_type": "code",
      "execution_count": null,
      "metadata": {
        "id": "FBcbYXNelsCD"
      },
      "outputs": [],
      "source": [
        "df = pd.read_csv('movie_dataset.csv')"
      ]
    },
    {
      "cell_type": "code",
      "execution_count": null,
      "metadata": {
        "colab": {
          "base_uri": "https://localhost:8080/",
          "height": 300
        },
        "id": "F030JYFll4TP",
        "outputId": "e0d98730-e97f-420b-ace3-b92564a621aa"
      },
      "outputs": [
        {
          "data": {
            "text/html": [
              "<div>\n",
              "<style scoped>\n",
              "    .dataframe tbody tr th:only-of-type {\n",
              "        vertical-align: middle;\n",
              "    }\n",
              "\n",
              "    .dataframe tbody tr th {\n",
              "        vertical-align: top;\n",
              "    }\n",
              "\n",
              "    .dataframe thead th {\n",
              "        text-align: right;\n",
              "    }\n",
              "</style>\n",
              "<table border=\"1\" class=\"dataframe\">\n",
              "  <thead>\n",
              "    <tr style=\"text-align: right;\">\n",
              "      <th></th>\n",
              "      <th>index</th>\n",
              "      <th>budget</th>\n",
              "      <th>id</th>\n",
              "      <th>popularity</th>\n",
              "      <th>revenue</th>\n",
              "      <th>runtime</th>\n",
              "      <th>vote_average</th>\n",
              "      <th>vote_count</th>\n",
              "    </tr>\n",
              "  </thead>\n",
              "  <tbody>\n",
              "    <tr>\n",
              "      <th>count</th>\n",
              "      <td>4803.000000</td>\n",
              "      <td>4.803000e+03</td>\n",
              "      <td>4803.000000</td>\n",
              "      <td>4803.000000</td>\n",
              "      <td>4.803000e+03</td>\n",
              "      <td>4801.000000</td>\n",
              "      <td>4803.000000</td>\n",
              "      <td>4803.000000</td>\n",
              "    </tr>\n",
              "    <tr>\n",
              "      <th>mean</th>\n",
              "      <td>2401.000000</td>\n",
              "      <td>2.904504e+07</td>\n",
              "      <td>57165.484281</td>\n",
              "      <td>21.492301</td>\n",
              "      <td>8.226064e+07</td>\n",
              "      <td>106.875859</td>\n",
              "      <td>6.092172</td>\n",
              "      <td>690.217989</td>\n",
              "    </tr>\n",
              "    <tr>\n",
              "      <th>std</th>\n",
              "      <td>1386.651002</td>\n",
              "      <td>4.072239e+07</td>\n",
              "      <td>88694.614033</td>\n",
              "      <td>31.816650</td>\n",
              "      <td>1.628571e+08</td>\n",
              "      <td>22.611935</td>\n",
              "      <td>1.194612</td>\n",
              "      <td>1234.585891</td>\n",
              "    </tr>\n",
              "    <tr>\n",
              "      <th>min</th>\n",
              "      <td>0.000000</td>\n",
              "      <td>0.000000e+00</td>\n",
              "      <td>5.000000</td>\n",
              "      <td>0.000000</td>\n",
              "      <td>0.000000e+00</td>\n",
              "      <td>0.000000</td>\n",
              "      <td>0.000000</td>\n",
              "      <td>0.000000</td>\n",
              "    </tr>\n",
              "    <tr>\n",
              "      <th>25%</th>\n",
              "      <td>1200.500000</td>\n",
              "      <td>7.900000e+05</td>\n",
              "      <td>9014.500000</td>\n",
              "      <td>4.668070</td>\n",
              "      <td>0.000000e+00</td>\n",
              "      <td>94.000000</td>\n",
              "      <td>5.600000</td>\n",
              "      <td>54.000000</td>\n",
              "    </tr>\n",
              "    <tr>\n",
              "      <th>50%</th>\n",
              "      <td>2401.000000</td>\n",
              "      <td>1.500000e+07</td>\n",
              "      <td>14629.000000</td>\n",
              "      <td>12.921594</td>\n",
              "      <td>1.917000e+07</td>\n",
              "      <td>103.000000</td>\n",
              "      <td>6.200000</td>\n",
              "      <td>235.000000</td>\n",
              "    </tr>\n",
              "    <tr>\n",
              "      <th>75%</th>\n",
              "      <td>3601.500000</td>\n",
              "      <td>4.000000e+07</td>\n",
              "      <td>58610.500000</td>\n",
              "      <td>28.313505</td>\n",
              "      <td>9.291719e+07</td>\n",
              "      <td>118.000000</td>\n",
              "      <td>6.800000</td>\n",
              "      <td>737.000000</td>\n",
              "    </tr>\n",
              "    <tr>\n",
              "      <th>max</th>\n",
              "      <td>4802.000000</td>\n",
              "      <td>3.800000e+08</td>\n",
              "      <td>459488.000000</td>\n",
              "      <td>875.581305</td>\n",
              "      <td>2.787965e+09</td>\n",
              "      <td>338.000000</td>\n",
              "      <td>10.000000</td>\n",
              "      <td>13752.000000</td>\n",
              "    </tr>\n",
              "  </tbody>\n",
              "</table>\n",
              "</div>"
            ],
            "text/plain": [
              "             index        budget             id   popularity       revenue  \\\n",
              "count  4803.000000  4.803000e+03    4803.000000  4803.000000  4.803000e+03   \n",
              "mean   2401.000000  2.904504e+07   57165.484281    21.492301  8.226064e+07   \n",
              "std    1386.651002  4.072239e+07   88694.614033    31.816650  1.628571e+08   \n",
              "min       0.000000  0.000000e+00       5.000000     0.000000  0.000000e+00   \n",
              "25%    1200.500000  7.900000e+05    9014.500000     4.668070  0.000000e+00   \n",
              "50%    2401.000000  1.500000e+07   14629.000000    12.921594  1.917000e+07   \n",
              "75%    3601.500000  4.000000e+07   58610.500000    28.313505  9.291719e+07   \n",
              "max    4802.000000  3.800000e+08  459488.000000   875.581305  2.787965e+09   \n",
              "\n",
              "           runtime  vote_average    vote_count  \n",
              "count  4801.000000   4803.000000   4803.000000  \n",
              "mean    106.875859      6.092172    690.217989  \n",
              "std      22.611935      1.194612   1234.585891  \n",
              "min       0.000000      0.000000      0.000000  \n",
              "25%      94.000000      5.600000     54.000000  \n",
              "50%     103.000000      6.200000    235.000000  \n",
              "75%     118.000000      6.800000    737.000000  \n",
              "max     338.000000     10.000000  13752.000000  "
            ]
          },
          "execution_count": 4,
          "metadata": {},
          "output_type": "execute_result"
        }
      ],
      "source": [
        "df.describe()"
      ]
    },
    {
      "cell_type": "code",
      "execution_count": null,
      "metadata": {
        "colab": {
          "base_uri": "https://localhost:8080/"
        },
        "id": "dGp7zugQl7jc",
        "outputId": "e6347e72-a6a3-4d92-a0c4-7c9b7fcf597e"
      },
      "outputs": [
        {
          "name": "stdout",
          "output_type": "stream",
          "text": [
            "<class 'pandas.core.frame.DataFrame'>\n",
            "RangeIndex: 4803 entries, 0 to 4802\n",
            "Data columns (total 24 columns):\n",
            " #   Column                Non-Null Count  Dtype  \n",
            "---  ------                --------------  -----  \n",
            " 0   index                 4803 non-null   int64  \n",
            " 1   budget                4803 non-null   int64  \n",
            " 2   genres                4775 non-null   object \n",
            " 3   homepage              1712 non-null   object \n",
            " 4   id                    4803 non-null   int64  \n",
            " 5   keywords              4391 non-null   object \n",
            " 6   original_language     4803 non-null   object \n",
            " 7   original_title        4803 non-null   object \n",
            " 8   overview              4800 non-null   object \n",
            " 9   popularity            4803 non-null   float64\n",
            " 10  production_companies  4803 non-null   object \n",
            " 11  production_countries  4803 non-null   object \n",
            " 12  release_date          4802 non-null   object \n",
            " 13  revenue               4803 non-null   int64  \n",
            " 14  runtime               4801 non-null   float64\n",
            " 15  spoken_languages      4803 non-null   object \n",
            " 16  status                4803 non-null   object \n",
            " 17  tagline               3959 non-null   object \n",
            " 18  title                 4803 non-null   object \n",
            " 19  vote_average          4803 non-null   float64\n",
            " 20  vote_count            4803 non-null   int64  \n",
            " 21  cast                  4760 non-null   object \n",
            " 22  crew                  4803 non-null   object \n",
            " 23  director              4773 non-null   object \n",
            "dtypes: float64(3), int64(5), object(16)\n",
            "memory usage: 900.7+ KB\n"
          ]
        }
      ],
      "source": [
        "df.info()"
      ]
    },
    {
      "cell_type": "code",
      "execution_count": null,
      "metadata": {
        "colab": {
          "base_uri": "https://localhost:8080/",
          "height": 1000
        },
        "id": "EAV5ve6VmBSl",
        "outputId": "932e6cd7-af1d-4fd5-8836-c791fdd72a12"
      },
      "outputs": [
        {
          "data": {
            "text/html": [
              "<div>\n",
              "<style scoped>\n",
              "    .dataframe tbody tr th:only-of-type {\n",
              "        vertical-align: middle;\n",
              "    }\n",
              "\n",
              "    .dataframe tbody tr th {\n",
              "        vertical-align: top;\n",
              "    }\n",
              "\n",
              "    .dataframe thead th {\n",
              "        text-align: right;\n",
              "    }\n",
              "</style>\n",
              "<table border=\"1\" class=\"dataframe\">\n",
              "  <thead>\n",
              "    <tr style=\"text-align: right;\">\n",
              "      <th></th>\n",
              "      <th>genres</th>\n",
              "      <th>keywords</th>\n",
              "      <th>title</th>\n",
              "      <th>overview</th>\n",
              "      <th>release_date</th>\n",
              "      <th>runtime</th>\n",
              "      <th>vote_average</th>\n",
              "      <th>revenue</th>\n",
              "      <th>cast</th>\n",
              "      <th>director</th>\n",
              "    </tr>\n",
              "  </thead>\n",
              "  <tbody>\n",
              "    <tr>\n",
              "      <th>0</th>\n",
              "      <td>Action Adventure Fantasy Science Fiction</td>\n",
              "      <td>culture clash future space war space colony so...</td>\n",
              "      <td>Avatar</td>\n",
              "      <td>In the 22nd century, a paraplegic Marine is di...</td>\n",
              "      <td>2009-12-10</td>\n",
              "      <td>162.0</td>\n",
              "      <td>7.2</td>\n",
              "      <td>2787965087</td>\n",
              "      <td>Sam Worthington Zoe Saldana Sigourney Weaver S...</td>\n",
              "      <td>James Cameron</td>\n",
              "    </tr>\n",
              "    <tr>\n",
              "      <th>1</th>\n",
              "      <td>Adventure Fantasy Action</td>\n",
              "      <td>ocean drug abuse exotic island east india trad...</td>\n",
              "      <td>Pirates of the Caribbean: At World's End</td>\n",
              "      <td>Captain Barbossa, long believed to be dead, ha...</td>\n",
              "      <td>2007-05-19</td>\n",
              "      <td>169.0</td>\n",
              "      <td>6.9</td>\n",
              "      <td>961000000</td>\n",
              "      <td>Johnny Depp Orlando Bloom Keira Knightley Stel...</td>\n",
              "      <td>Gore Verbinski</td>\n",
              "    </tr>\n",
              "    <tr>\n",
              "      <th>2</th>\n",
              "      <td>Action Adventure Crime</td>\n",
              "      <td>spy based on novel secret agent sequel mi6</td>\n",
              "      <td>Spectre</td>\n",
              "      <td>A cryptic message from Bond’s past sends him o...</td>\n",
              "      <td>2015-10-26</td>\n",
              "      <td>148.0</td>\n",
              "      <td>6.3</td>\n",
              "      <td>880674609</td>\n",
              "      <td>Daniel Craig Christoph Waltz L\\u00e9a Seydoux ...</td>\n",
              "      <td>Sam Mendes</td>\n",
              "    </tr>\n",
              "    <tr>\n",
              "      <th>3</th>\n",
              "      <td>Action Crime Drama Thriller</td>\n",
              "      <td>dc comics crime fighter terrorist secret ident...</td>\n",
              "      <td>The Dark Knight Rises</td>\n",
              "      <td>Following the death of District Attorney Harve...</td>\n",
              "      <td>2012-07-16</td>\n",
              "      <td>165.0</td>\n",
              "      <td>7.6</td>\n",
              "      <td>1084939099</td>\n",
              "      <td>Christian Bale Michael Caine Gary Oldman Anne ...</td>\n",
              "      <td>Christopher Nolan</td>\n",
              "    </tr>\n",
              "    <tr>\n",
              "      <th>4</th>\n",
              "      <td>Action Adventure Science Fiction</td>\n",
              "      <td>based on novel mars medallion space travel pri...</td>\n",
              "      <td>John Carter</td>\n",
              "      <td>John Carter is a war-weary, former military ca...</td>\n",
              "      <td>2012-03-07</td>\n",
              "      <td>132.0</td>\n",
              "      <td>6.1</td>\n",
              "      <td>284139100</td>\n",
              "      <td>Taylor Kitsch Lynn Collins Samantha Morton Wil...</td>\n",
              "      <td>Andrew Stanton</td>\n",
              "    </tr>\n",
              "    <tr>\n",
              "      <th>...</th>\n",
              "      <td>...</td>\n",
              "      <td>...</td>\n",
              "      <td>...</td>\n",
              "      <td>...</td>\n",
              "      <td>...</td>\n",
              "      <td>...</td>\n",
              "      <td>...</td>\n",
              "      <td>...</td>\n",
              "      <td>...</td>\n",
              "      <td>...</td>\n",
              "    </tr>\n",
              "    <tr>\n",
              "      <th>4795</th>\n",
              "      <td>Drama</td>\n",
              "      <td>gang audition police fake homeless actress</td>\n",
              "      <td>Bang</td>\n",
              "      <td>A young woman in L.A. is having a bad day: she...</td>\n",
              "      <td>1995-09-09</td>\n",
              "      <td>98.0</td>\n",
              "      <td>6.0</td>\n",
              "      <td>0</td>\n",
              "      <td>Darling Narita Peter Greene Michael Newland Er...</td>\n",
              "      <td>Ash Baron-Cohen</td>\n",
              "    </tr>\n",
              "    <tr>\n",
              "      <th>4796</th>\n",
              "      <td>Science Fiction Drama Thriller</td>\n",
              "      <td>distrust garage identity crisis time travel ti...</td>\n",
              "      <td>Primer</td>\n",
              "      <td>Friends/fledgling entrepreneurs invent a devic...</td>\n",
              "      <td>2004-10-08</td>\n",
              "      <td>77.0</td>\n",
              "      <td>6.9</td>\n",
              "      <td>424760</td>\n",
              "      <td>Shane Carruth David Sullivan Casey Gooden Anan...</td>\n",
              "      <td>Shane Carruth</td>\n",
              "    </tr>\n",
              "    <tr>\n",
              "      <th>4798</th>\n",
              "      <td>Action Crime Thriller</td>\n",
              "      <td>united states\\u2013mexico barrier legs arms pa...</td>\n",
              "      <td>El Mariachi</td>\n",
              "      <td>El Mariachi just wants to play his guitar and ...</td>\n",
              "      <td>1992-09-04</td>\n",
              "      <td>81.0</td>\n",
              "      <td>6.6</td>\n",
              "      <td>2040920</td>\n",
              "      <td>Carlos Gallardo Jaime de Hoyos Peter Marquardt...</td>\n",
              "      <td>Robert Rodriguez</td>\n",
              "    </tr>\n",
              "    <tr>\n",
              "      <th>4800</th>\n",
              "      <td>Comedy Drama Romance TV Movie</td>\n",
              "      <td>date love at first sight narration investigati...</td>\n",
              "      <td>Signed, Sealed, Delivered</td>\n",
              "      <td>\"Signed, Sealed, Delivered\" introduces a dedic...</td>\n",
              "      <td>2013-10-13</td>\n",
              "      <td>120.0</td>\n",
              "      <td>7.0</td>\n",
              "      <td>0</td>\n",
              "      <td>Eric Mabius Kristin Booth Crystal Lowe Geoff G...</td>\n",
              "      <td>Scott Smith</td>\n",
              "    </tr>\n",
              "    <tr>\n",
              "      <th>4802</th>\n",
              "      <td>Documentary</td>\n",
              "      <td>obsession camcorder crush dream girl</td>\n",
              "      <td>My Date with Drew</td>\n",
              "      <td>Ever since the second grade when he first saw ...</td>\n",
              "      <td>2005-08-05</td>\n",
              "      <td>90.0</td>\n",
              "      <td>6.3</td>\n",
              "      <td>0</td>\n",
              "      <td>Drew Barrymore Brian Herzlinger Corey Feldman ...</td>\n",
              "      <td>Brian Herzlinger</td>\n",
              "    </tr>\n",
              "  </tbody>\n",
              "</table>\n",
              "<p>4375 rows × 10 columns</p>\n",
              "</div>"
            ],
            "text/plain": [
              "                                        genres  \\\n",
              "0     Action Adventure Fantasy Science Fiction   \n",
              "1                     Adventure Fantasy Action   \n",
              "2                       Action Adventure Crime   \n",
              "3                  Action Crime Drama Thriller   \n",
              "4             Action Adventure Science Fiction   \n",
              "...                                        ...   \n",
              "4795                                     Drama   \n",
              "4796            Science Fiction Drama Thriller   \n",
              "4798                     Action Crime Thriller   \n",
              "4800             Comedy Drama Romance TV Movie   \n",
              "4802                               Documentary   \n",
              "\n",
              "                                               keywords  \\\n",
              "0     culture clash future space war space colony so...   \n",
              "1     ocean drug abuse exotic island east india trad...   \n",
              "2            spy based on novel secret agent sequel mi6   \n",
              "3     dc comics crime fighter terrorist secret ident...   \n",
              "4     based on novel mars medallion space travel pri...   \n",
              "...                                                 ...   \n",
              "4795         gang audition police fake homeless actress   \n",
              "4796  distrust garage identity crisis time travel ti...   \n",
              "4798  united states\\u2013mexico barrier legs arms pa...   \n",
              "4800  date love at first sight narration investigati...   \n",
              "4802               obsession camcorder crush dream girl   \n",
              "\n",
              "                                         title  \\\n",
              "0                                       Avatar   \n",
              "1     Pirates of the Caribbean: At World's End   \n",
              "2                                      Spectre   \n",
              "3                        The Dark Knight Rises   \n",
              "4                                  John Carter   \n",
              "...                                        ...   \n",
              "4795                                      Bang   \n",
              "4796                                    Primer   \n",
              "4798                               El Mariachi   \n",
              "4800                 Signed, Sealed, Delivered   \n",
              "4802                         My Date with Drew   \n",
              "\n",
              "                                               overview release_date  runtime  \\\n",
              "0     In the 22nd century, a paraplegic Marine is di...   2009-12-10    162.0   \n",
              "1     Captain Barbossa, long believed to be dead, ha...   2007-05-19    169.0   \n",
              "2     A cryptic message from Bond’s past sends him o...   2015-10-26    148.0   \n",
              "3     Following the death of District Attorney Harve...   2012-07-16    165.0   \n",
              "4     John Carter is a war-weary, former military ca...   2012-03-07    132.0   \n",
              "...                                                 ...          ...      ...   \n",
              "4795  A young woman in L.A. is having a bad day: she...   1995-09-09     98.0   \n",
              "4796  Friends/fledgling entrepreneurs invent a devic...   2004-10-08     77.0   \n",
              "4798  El Mariachi just wants to play his guitar and ...   1992-09-04     81.0   \n",
              "4800  \"Signed, Sealed, Delivered\" introduces a dedic...   2013-10-13    120.0   \n",
              "4802  Ever since the second grade when he first saw ...   2005-08-05     90.0   \n",
              "\n",
              "      vote_average     revenue  \\\n",
              "0              7.2  2787965087   \n",
              "1              6.9   961000000   \n",
              "2              6.3   880674609   \n",
              "3              7.6  1084939099   \n",
              "4              6.1   284139100   \n",
              "...            ...         ...   \n",
              "4795           6.0           0   \n",
              "4796           6.9      424760   \n",
              "4798           6.6     2040920   \n",
              "4800           7.0           0   \n",
              "4802           6.3           0   \n",
              "\n",
              "                                                   cast           director  \n",
              "0     Sam Worthington Zoe Saldana Sigourney Weaver S...      James Cameron  \n",
              "1     Johnny Depp Orlando Bloom Keira Knightley Stel...     Gore Verbinski  \n",
              "2     Daniel Craig Christoph Waltz L\\u00e9a Seydoux ...         Sam Mendes  \n",
              "3     Christian Bale Michael Caine Gary Oldman Anne ...  Christopher Nolan  \n",
              "4     Taylor Kitsch Lynn Collins Samantha Morton Wil...     Andrew Stanton  \n",
              "...                                                 ...                ...  \n",
              "4795  Darling Narita Peter Greene Michael Newland Er...    Ash Baron-Cohen  \n",
              "4796  Shane Carruth David Sullivan Casey Gooden Anan...      Shane Carruth  \n",
              "4798  Carlos Gallardo Jaime de Hoyos Peter Marquardt...   Robert Rodriguez  \n",
              "4800  Eric Mabius Kristin Booth Crystal Lowe Geoff G...        Scott Smith  \n",
              "4802  Drew Barrymore Brian Herzlinger Corey Feldman ...   Brian Herzlinger  \n",
              "\n",
              "[4375 rows x 10 columns]"
            ]
          },
          "execution_count": 22,
          "metadata": {},
          "output_type": "execute_result"
        }
      ],
      "source": [
        "target_columns = ['genres',\n",
        "                  'keywords',\n",
        "                  'title',\n",
        "                  'overview',\n",
        "                  'release_date',\n",
        "                  'runtime',\n",
        "                  'vote_average',\n",
        "                  'revenue',\n",
        "                  'cast',\n",
        "                  'director']\n",
        "df = df[target_columns].dropna()\n",
        "df"
      ]
    },
    {
      "cell_type": "markdown",
      "source": [
        "# Store Records into Vector Database"
      ],
      "metadata": {
        "id": "8RpznvHWyKDt"
      }
    },
    {
      "cell_type": "code",
      "execution_count": null,
      "metadata": {
        "id": "6qzLsHROlxDb"
      },
      "outputs": [],
      "source": [
        "data = df.to_dict('records')"
      ]
    },
    {
      "cell_type": "code",
      "execution_count": null,
      "metadata": {
        "id": "sT0Zc2eNiJMa"
      },
      "outputs": [],
      "source": [
        "encoder = SentenceTransformer('all-MiniLM-L6-v2') # Model to create embeddings"
      ]
    },
    {
      "cell_type": "code",
      "execution_count": null,
      "metadata": {
        "id": "KCEqA5OxiKxl"
      },
      "outputs": [],
      "source": [
        "# create the vector database client\n",
        "qdrant = QdrantClient(\":memory:\") # Create in-memory Qdrant instance"
      ]
    },
    {
      "cell_type": "code",
      "execution_count": null,
      "metadata": {
        "colab": {
          "base_uri": "https://localhost:8080/"
        },
        "id": "g401GoZeiMTF",
        "outputId": "77c62d54-5928-476a-815a-279e09fec330"
      },
      "outputs": [
        {
          "name": "stderr",
          "output_type": "stream",
          "text": [
            "C:\\Users\\leong\\AppData\\Local\\Temp/ipykernel_25804/850330823.py:2: DeprecationWarning: `recreate_collection` method is deprecated and will be removed in the future. Use `collection_exists` to check collection existence and `create_collection` instead.\n",
            "  qdrant.recreate_collection(\n"
          ]
        },
        {
          "data": {
            "text/plain": [
              "True"
            ]
          },
          "execution_count": 26,
          "metadata": {},
          "output_type": "execute_result"
        }
      ],
      "source": [
        "# Create collection to store books\n",
        "qdrant.recreate_collection(\n",
        "    collection_name=\"movies\",\n",
        "    vectors_config=models.VectorParams(\n",
        "        size=encoder.get_sentence_embedding_dimension(),\n",
        "        distance=models.Distance.COSINE\n",
        "    )\n",
        ")"
      ]
    },
    {
      "cell_type": "code",
      "execution_count": null,
      "metadata": {
        "colab": {
          "base_uri": "https://localhost:8080/"
        },
        "id": "WhPhR1AXiOIZ",
        "outputId": "c8345df4-550e-4324-b8fd-8bf0ecea3b85"
      },
      "outputs": [
        {
          "name": "stderr",
          "output_type": "stream",
          "text": [
            "C:\\Users\\leong\\AppData\\Local\\Temp/ipykernel_25804/3222359287.py:3: DeprecationWarning: `upload_records` is deprecated, use `upload_points` instead\n",
            "  qdrant.upload_records(\n"
          ]
        }
      ],
      "source": [
        "qdrant.upload_records(\n",
        "    collection_name=\"movies\",\n",
        "    records=[\n",
        "        models.Record(\n",
        "            id=idx,\n",
        "            vector=(encoder.encode(doc[\"overview\"]) + encoder.encode(doc[\"genres\"]) + encoder.encode(doc[\"keywords\"])).tolist(),\n",
        "            payload=doc\n",
        "        ) for idx, doc in enumerate(data)\n",
        "    ]\n",
        ")"
      ]
    },
    {
      "cell_type": "code",
      "execution_count": null,
      "metadata": {
        "colab": {
          "base_uri": "https://localhost:8080/"
        },
        "id": "cDOy49eUiPxM",
        "outputId": "e074aed8-5b1d-4186-a75f-bad36f7c2182"
      },
      "outputs": [
        {
          "name": "stdout",
          "output_type": "stream",
          "text": [
            "{'genres': 'Comedy Drama', 'keywords': 'family secrets dysfunctional family independent film death in family family conflict', 'title': 'Eulogy', 'overview': 'A black comedy that follows three generations of a family, who come together for the funeral of the patriarch - unveiling a litany of family secrets and covert relationships.', 'release_date': '2004-10-15', 'runtime': 91.0, 'vote_average': 6.4, 'revenue': 0, 'cast': 'Hank Azaria Jesse Bradford Zooey Deschanel Glenne Headly Famke Janssen', 'director': 'Michael Clancy'} score: 0.6936044276545827\n",
            "{'genres': 'Comedy Family Fantasy', 'keywords': 'london england dancing parents kids relationship bank brother sister relationship', 'title': 'Mary Poppins', 'overview': 'The movie combines a diverting story, songs, color and sequences of live action blended with the movements of animated figures. Mary Poppins is a kind of Super-nanny who flies in with her umbrella in response to the request of the Banks children and proceeds to put things right with the aid of her rather extraordinary magical powers before flying off again.', 'release_date': '1964-08-27', 'runtime': 139.0, 'vote_average': 7.4, 'revenue': 102272727, 'cast': 'Julie Andrews Dick Van Dyke David Tomlinson Glynis Johns Hermione Baddeley', 'director': 'Robert Stevenson'} score: 0.6805092861000711\n",
            "{'genres': 'Adventure Comedy Family Fantasy Science Fiction', 'keywords': 'alien comedy duringcreditsstinger beforecreditsstinger live action and animation', 'title': 'Aliens in the Attic', 'overview': \"It's summer vacation, but the Pearson family kids are stuck at a boring lake house with their nerdy parents. That is until feisty, little, green aliens crash-land on the roof, with plans to conquer the house AND Earth! Using only their wits, courage and video game-playing skills, the youngsters must band together to defeat the aliens and save the world - but the toughest part might be keeping the whole thing a secret from their parents! Featuring an all-star cast including Ashley Tisdale, Andy Richter, Kevin Nealon, Tim Meadows and Doris Roberts, Aliens In The Attic is the most fun you can have on this planet!\", 'release_date': '2009-07-31', 'runtime': 86.0, 'vote_average': 5.3, 'revenue': 57881056, 'cast': 'Carter Jenkins Austin Butler Kevin Nealon Robert Hoffman Doris Roberts', 'director': 'John Schultz'} score: 0.6508602708223397\n"
          ]
        }
      ],
      "source": [
        "hits = qdrant.search(\n",
        "    collection_name=\"movies\",\n",
        "    query_vector=encoder.encode(\"An entertaining family friendly movie.\").tolist(),\n",
        "    limit=3\n",
        ")\n",
        "for hit in hits:\n",
        "  print(hit.payload, \"score:\", hit.score)"
      ]
    },
    {
      "cell_type": "markdown",
      "source": [
        "# User Query & Response Chat Generation"
      ],
      "metadata": {
        "id": "TGHO55_xyUVH"
      }
    },
    {
      "cell_type": "code",
      "execution_count": null,
      "metadata": {
        "id": "p4LXshtUyGDq"
      },
      "outputs": [],
      "source": [
        "client = OpenAI(\n",
        "    base_url=\"http://127.0.0.1:8080/v1\",\n",
        "    api_key = \"sk-no-key-required\"\n",
        ")"
      ]
    },
    {
      "cell_type": "markdown",
      "source": [],
      "metadata": {
        "id": "DwpOTci_yZK5"
      }
    },
    {
      "cell_type": "code",
      "execution_count": null,
      "metadata": {
        "id": "_w32eyNayGDq"
      },
      "outputs": [],
      "source": [
        "user_request = 'Please suggest me an amazing action robot and mech movies to be watched with my family this weekend.'"
      ]
    },
    {
      "cell_type": "code",
      "execution_count": null,
      "metadata": {
        "id": "Sv4JTmqoyGDq",
        "outputId": "579052ff-d79b-40a6-a1d4-7ed8718e8400"
      },
      "outputs": [
        {
          "name": "stdout",
          "output_type": "stream",
          "text": [
            "{'genres': 'Science Fiction Action Adventure', 'keywords': 'sequel alien transformers giant robot robot', 'title': 'Transformers: Age of Extinction', 'overview': 'As humanity picks up the pieces, following the conclusion of \"Transformers: Dark of the Moon,\" Autobots and Decepticons have all but vanished from the face of the planet. However, a group of powerful, ingenious businessman and scientists attempt to learn from past Transformer incursions and push the boundaries of technology beyond what they can control - all while an ancient, powerful Transformer menace sets Earth in his cross-hairs.', 'release_date': '2014-06-25', 'runtime': 165.0, 'vote_average': 5.8, 'revenue': 1091405097, 'cast': 'Mark Wahlberg Stanley Tucci Kelsey Grammer Nicola Peltz Jack Reynor', 'director': 'Michael Bay'}\n"
          ]
        }
      ],
      "source": [
        "# Search relevant movies\n",
        "hits = qdrant.search(\n",
        "    collection_name=\"movies\",\n",
        "    query_vector=encoder.encode(user_request).tolist(),\n",
        "    limit=5\n",
        ")\n",
        "search_results = [hit.payload for hit in hits if hit.payload.get('score', 0) > 0.5]\n",
        "if len(search_results)<2:\n",
        "    search_results = [hit.payload for hit in hits]\n",
        "print(search_results[0])\n"
      ]
    },
    {
      "cell_type": "code",
      "execution_count": null,
      "metadata": {
        "id": "HxhHVS2cyGDq"
      },
      "outputs": [],
      "source": [
        "# Generate movies recommendation chat\n",
        "completion = client.chat.completions.create(\n",
        "    model=\"LLaMA_CPP\",\n",
        "    messages=[\n",
        "        {\"role\": \"system\", \"content\": \"You are chatbot, a movie specialist. Your top priority is to help guide users into selecting amazing relevant and interesting movie and guide them with their requests.\"},\n",
        "        {\"role\": \"user\", \"content\": user_request},\n",
        "        {\"role\": \"assistant\", \"content\": str(search_results)}\n",
        "    ]\n",
        ")\n",
        "response = completion.choices[0].message"
      ]
    },
    {
      "cell_type": "code",
      "execution_count": null,
      "metadata": {
        "id": "C5XtJ8uWyGDr",
        "outputId": "50b92b4d-1fcf-49a4-946f-c5a46b3043a2"
      },
      "outputs": [
        {
          "name": "stdout",
          "output_type": "stream",
          "text": [
            "Here are some amazing action robot and mech movies to watch with your family this weekend:\n",
            "\n",
            "1. Transformers: Age of Extinction (2014) - A group of powerful businessmen and scientists attempt to learn from past Transformer incursions and push the boundaries of technology beyond what they can control.\n",
            "2. Zathura: A Space Adventure (2005) - After playing a space-themed board game, two young boys are shot into space and must work with an astronaut to return home.\n",
            "3. Astro Boy (2009) - A young robot with incredible powers created in the image of a son goes on a journey to find acceptance and battles betrayal and a netherworld of robot gladiators.\n",
            "4. Aliens in the Attic (2009) - A group of youngsters must band together to defeat aliens and save the world while keeping the whole thing a secret from their parents.\n",
            "5. WALL·E (2008) - A lonely robot on a mission to clean up Earth finds a new friend when a sleek new type of robot arrives.\n",
            "\n",
            "These movies offer a mix of action, adventure, and heart, making them perfect for a family weekend movie night. Enjoy!</s>\n"
          ]
        }
      ],
      "source": [
        "print(response.content)"
      ]
    },
    {
      "cell_type": "code",
      "execution_count": null,
      "metadata": {
        "id": "5IOi8TduyGDr"
      },
      "outputs": [],
      "source": []
    }
  ],
  "metadata": {
    "colab": {
      "provenance": []
    },
    "kernelspec": {
      "display_name": "Python 3 (ipykernel)",
      "language": "python",
      "name": "python3"
    },
    "language_info": {
      "codemirror_mode": {
        "name": "ipython",
        "version": 3
      },
      "file_extension": ".py",
      "mimetype": "text/x-python",
      "name": "python",
      "nbconvert_exporter": "python",
      "pygments_lexer": "ipython3",
      "version": "3.9.7"
    }
  },
  "nbformat": 4,
  "nbformat_minor": 0
}